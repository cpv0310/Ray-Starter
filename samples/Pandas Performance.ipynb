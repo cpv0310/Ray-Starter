{
 "cells": [
  {
   "cell_type": "code",
   "execution_count": null,
   "id": "6e4183f0-ff66-40eb-aafd-39f2be4fe84b",
   "metadata": {},
   "outputs": [],
   "source": [
    "import pandas as pd"
   ]
  },
  {
   "cell_type": "code",
   "execution_count": null,
   "id": "ad033b15-9eda-4689-9d98-cb0b3203b7e4",
   "metadata": {},
   "outputs": [],
   "source": [
    "%time df = pd.read_csv(\"taxi.csv\")"
   ]
  },
  {
   "cell_type": "code",
   "execution_count": null,
   "id": "98faf19b-2206-4cef-b209-82c4d34e8cd4",
   "metadata": {},
   "outputs": [],
   "source": [
    "%time isnull = df.isnull()"
   ]
  },
  {
   "cell_type": "code",
   "execution_count": null,
   "id": "d2522c1d-6b89-492c-9c45-8bbb7825d1b4",
   "metadata": {},
   "outputs": [],
   "source": [
    "%time rounded_trip_distance = df[[\"pickup_longitude\"]].applymap(round)"
   ]
  },
  {
   "cell_type": "code",
   "execution_count": null,
   "id": "e9033252-aaad-490d-9089-06bb8ec927f3",
   "metadata": {},
   "outputs": [],
   "source": [
    "%time len(df)"
   ]
  },
  {
   "cell_type": "code",
   "execution_count": null,
   "id": "de80cc6a-aeb3-472d-99bd-e44466713476",
   "metadata": {},
   "outputs": [],
   "source": []
  }
 ],
 "metadata": {
  "kernelspec": {
   "display_name": "Python 3 (ipykernel)",
   "language": "python",
   "name": "python3"
  },
  "language_info": {
   "codemirror_mode": {
    "name": "ipython",
    "version": 3
   },
   "file_extension": ".py",
   "mimetype": "text/x-python",
   "name": "python",
   "nbconvert_exporter": "python",
   "pygments_lexer": "ipython3",
   "version": "3.9.11"
  }
 },
 "nbformat": 4,
 "nbformat_minor": 5
}
