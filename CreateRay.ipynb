{
 "cells": [
  {
   "cell_type": "code",
   "execution_count": null,
   "id": "d79d7926-849b-47aa-8204-84a7c4f02bed",
   "metadata": {},
   "outputs": [],
   "source": [
    "!pip install --progress-bar off -r requirements.txt --quiet\n",
    "!pip install --progress-bar off -r https://$CDSW_DOMAIN/api/v2/python.tar.gz --quiet\n",
    "!pip install --progress-bar off -r install git+https://github.com/peterableda/cmlextras.git --quiet"
   ]
  },
  {
   "cell_type": "code",
   "execution_count": null,
   "id": "92418e81-e33c-4e7c-b9b0-e686efb843dd",
   "metadata": {},
   "outputs": [],
   "source": [
    "import cmlextras.ray_cluster as rc\n",
    "import cmlapi\n",
    "import os\n",
    "import json\n",
    "\n",
    "# Set the setup variables needed by CML APIv2\n",
    "HOST = os.getenv(\"CDSW_API_URL\").split(\":\")[0] + \"://\" + os.getenv(\"CDSW_DOMAIN\")\n",
    "USERNAME = os.getenv(\"CDSW_PROJECT_URL\").split(\"/\")[6]  # args.username  # \"vdibia\"\n",
    "API_KEY = os.getenv(\"CDSW_APIV2_KEY\")\n",
    "PROJECT_NAME = os.getenv(\"CDSW_PROJECT\")\n",
    "PROJECT_ID=os.getenv(\"CDSW_PROJECT_ID\")\n",
    "\n",
    "cml = cmlapi.default_client(url=HOST,cml_api_key=API_KEY)\n",
    "\n",
    "def set_environ(Cml,Item,Value):\n",
    "  Project=Cml.get_project(os.getenv(\"CDSW_PROJECT_ID\"))\n",
    "  if Project.environment=='':\n",
    "    Project_Environment={}\n",
    "  else:\n",
    "    Project_Environment=json.loads(Project.environment)\n",
    "  Project_Environment[Item]=Value\n",
    "  Project.environment=json.dumps(Project_Environment)\n",
    "  Cml.update_project(Project,project_id=os.getenv(\"CDSW_PROJECT_ID\"))\n",
    "\n",
    "def get_environ(Cml,Item):\n",
    "  Project=Cml.get_project(os.getenv(\"CDSW_PROJECT_ID\"))\n",
    "  Project_Environment=json.loads(Project.environment)\n",
    "  return Project_Environment[Item]"
   ]
  },
  {
   "cell_type": "markdown",
   "id": "11443d1f-0075-4af1-a36e-218be63465bf",
   "metadata": {},
   "source": [
    "## Create Ray Cluster"
   ]
  },
  {
   "cell_type": "code",
   "execution_count": null,
   "id": "b89fbd85-789d-4558-a503-d2338a5b9400",
   "metadata": {},
   "outputs": [],
   "source": [
    "cluster = rc.RayCluster(num_workers=3,worker_memory=12,head_memory=12)\n",
    "cluster.init()\n",
    "set_environ(cml,\"RAY_ADDRESS\",cluster.get_client_url())\n"
   ]
  },
  {
   "cell_type": "markdown",
   "id": "c9bfd457-456d-44da-a8c0-13d9b7344dba",
   "metadata": {},
   "source": [
    "## Kill Ray Cluster"
   ]
  },
  {
   "cell_type": "code",
   "execution_count": null,
   "id": "a20e6dd1-dcc3-4f9c-88eb-f156f358b48e",
   "metadata": {},
   "outputs": [],
   "source": [
    "cluster.terminate()"
   ]
  },
  {
   "cell_type": "code",
   "execution_count": null,
   "id": "4cd2d32e-e18a-4e38-b265-421ddc71fc4e",
   "metadata": {},
   "outputs": [],
   "source": []
  }
 ],
 "metadata": {
  "kernelspec": {
   "display_name": "Python 3 (ipykernel)",
   "language": "python",
   "name": "python3"
  },
  "language_info": {
   "codemirror_mode": {
    "name": "ipython",
    "version": 3
   },
   "file_extension": ".py",
   "mimetype": "text/x-python",
   "name": "python",
   "nbconvert_exporter": "python",
   "pygments_lexer": "ipython3",
   "version": "3.9.11"
  }
 },
 "nbformat": 4,
 "nbformat_minor": 5
}
