{
 "cells": [
  {
   "cell_type": "code",
   "execution_count": 21,
   "id": "ce166cfa-4c17-452a-b7b8-e30cc19ad7bc",
   "metadata": {},
   "outputs": [],
   "source": [
    "import cml.data_v1 as cmldata\n",
    "\n",
    "from pyspark import SparkContext\n",
    "SparkContext.setSystemProperty('spark.executor.cores', '4')\n",
    "SparkContext.setSystemProperty('spark.executor.memory', '16g')\n",
    "SparkContext.setSystemProperty('spark.executor.instances', '9')\n",
    "\n",
    "CONNECTION_NAME = \"go01-aw-dl\"\n",
    "conn = cmldata.get_connection(CONNECTION_NAME)\n",
    "spark = conn.get_spark_session()"
   ]
  },
  {
   "cell_type": "code",
   "execution_count": 22,
   "id": "ac657f2e-0c91-4a2a-a2b8-57d1ed5d30c2",
   "metadata": {},
   "outputs": [
    {
     "name": "stderr",
     "output_type": "stream",
     "text": [
      "[Stage 17:==================================================>       (7 + 1) / 8]\r"
     ]
    },
    {
     "name": "stdout",
     "output_type": "stream",
     "text": [
      "CPU times: user 6.58 ms, sys: 1.64 ms, total: 8.21 ms\n",
      "Wall time: 6.65 s\n"
     ]
    },
    {
     "name": "stderr",
     "output_type": "stream",
     "text": [
      "                                                                                \r"
     ]
    }
   ],
   "source": [
    "%time df=spark.read.options(header='True',inferSchema='True').csv(\"../data/Data8277.csv\")\n"
   ]
  },
  {
   "cell_type": "code",
   "execution_count": 23,
   "id": "c1a78610-7178-4322-b57a-b3b4028f31e2",
   "metadata": {},
   "outputs": [
    {
     "name": "stdout",
     "output_type": "stream",
     "text": [
      "CPU times: user 747 µs, sys: 493 µs, total: 1.24 ms\n",
      "Wall time: 1.38 ms\n"
     ]
    }
   ],
   "source": [
    "%%time \n",
    "isnull = df.Age.isNull()"
   ]
  },
  {
   "cell_type": "code",
   "execution_count": 24,
   "id": "14b80b99-c96c-4752-b8eb-023c455ec8bc",
   "metadata": {},
   "outputs": [
    {
     "name": "stdout",
     "output_type": "stream",
     "text": [
      "CPU times: user 1.6 ms, sys: 0 ns, total: 1.6 ms\n",
      "Wall time: 28.4 ms\n"
     ]
    }
   ],
   "source": [
    "def func1(x):\n",
    "    avcount=round(count)\n",
    "    return (avcount)\n",
    "\n",
    "%time rounded_count = df.rdd.map(lambda x: func1(x))"
   ]
  },
  {
   "cell_type": "code",
   "execution_count": 25,
   "id": "554a1500-3b39-47be-ab08-1fef469dfdcb",
   "metadata": {},
   "outputs": [
    {
     "name": "stderr",
     "output_type": "stream",
     "text": [
      "[Stage 18:>                                                         (0 + 8) / 8]\r"
     ]
    },
    {
     "name": "stdout",
     "output_type": "stream",
     "text": [
      "CPU times: user 2.82 ms, sys: 921 µs, total: 3.74 ms\n",
      "Wall time: 1.48 s\n"
     ]
    },
    {
     "name": "stderr",
     "output_type": "stream",
     "text": [
      "                                                                                \r"
     ]
    },
    {
     "data": {
      "text/plain": [
       "34959672"
      ]
     },
     "execution_count": 25,
     "metadata": {},
     "output_type": "execute_result"
    }
   ],
   "source": [
    "%time df.count()"
   ]
  },
  {
   "cell_type": "code",
   "execution_count": 26,
   "id": "4fc2892f-0dbc-4062-9a3f-23c8fa4888f9",
   "metadata": {},
   "outputs": [
    {
     "name": "stderr",
     "output_type": "stream",
     "text": [
      "[Stage 21:==================================================>       (7 + 1) / 8]\r"
     ]
    },
    {
     "name": "stdout",
     "output_type": "stream",
     "text": [
      "+----+------------------+\n",
      "|Year|          avg(Age)|\n",
      "+----+------------------+\n",
      "|2013|6813.4324324324325|\n",
      "|2006|6813.4324324324325|\n",
      "|2018|6813.4324324324325|\n",
      "+----+------------------+\n",
      "\n",
      "CPU times: user 6.21 ms, sys: 1.36 ms, total: 7.57 ms\n",
      "Wall time: 4.35 s\n"
     ]
    },
    {
     "name": "stderr",
     "output_type": "stream",
     "text": [
      "                                                                                \r"
     ]
    }
   ],
   "source": [
    "%time df.groupby('Year').avg('Age').show()"
   ]
  },
  {
   "cell_type": "code",
   "execution_count": null,
   "id": "9f45a182-120a-4f5a-a896-ca091f269548",
   "metadata": {},
   "outputs": [],
   "source": []
  },
  {
   "cell_type": "code",
   "execution_count": 27,
   "id": "988d4877-9207-460b-b631-17093e374329",
   "metadata": {},
   "outputs": [
    {
     "data": {
      "text/plain": [
       "<bound method SparkSession.stop of <pyspark.sql.session.SparkSession object at 0x7f7b3c045790>>"
      ]
     },
     "execution_count": 27,
     "metadata": {},
     "output_type": "execute_result"
    }
   ],
   "source": [
    "spark.stop"
   ]
  },
  {
   "cell_type": "code",
   "execution_count": null,
   "id": "165f3860-2236-4c62-857d-d78a0ba934dc",
   "metadata": {},
   "outputs": [],
   "source": []
  }
 ],
 "metadata": {
  "kernelspec": {
   "display_name": "Python 3 (ipykernel)",
   "language": "python",
   "name": "python3"
  },
  "language_info": {
   "codemirror_mode": {
    "name": "ipython",
    "version": 3
   },
   "file_extension": ".py",
   "mimetype": "text/x-python",
   "name": "python",
   "nbconvert_exporter": "python",
   "pygments_lexer": "ipython3",
   "version": "3.9.11"
  }
 },
 "nbformat": 4,
 "nbformat_minor": 5
}
