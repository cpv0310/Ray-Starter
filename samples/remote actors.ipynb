{
 "cells": [
  {
   "cell_type": "code",
   "execution_count": null,
   "id": "f5ee0cff-9955-454e-a8dd-d720dc431eff",
   "metadata": {},
   "outputs": [],
   "source": [
    "import ray\n",
    "import time\n",
    "import os\n",
    "import cmlapi\n",
    "import json\n",
    "\n",
    "# Set the setup variables needed by CML APIv2\n",
    "HOST = os.getenv(\"CDSW_API_URL\").split(\":\")[0] + \"://\" + os.getenv(\"CDSW_DOMAIN\")\n",
    "USERNAME = os.getenv(\"CDSW_PROJECT_URL\").split(\"/\")[6]  # args.username  # \"vdibia\"\n",
    "API_KEY = os.getenv(\"CDSW_APIV2_KEY\")\n",
    "PROJECT_NAME = os.getenv(\"CDSW_PROJECT\")\n",
    "PROJECT_ID=os.getenv(\"CDSW_PROJECT_ID\")\n",
    "\n",
    "cml = cmlapi.default_client(url=HOST,cml_api_key=API_KEY)\n",
    "\n",
    "def set_environ(Cml,Item,Value):\n",
    "  Project=Cml.get_project(os.getenv(\"CDSW_PROJECT_ID\"))\n",
    "  if Project.environment=='':\n",
    "    Project_Environment={}\n",
    "  else:\n",
    "    Project_Environment=json.loads(Project.environment)\n",
    "  Project_Environment[Item]=Value\n",
    "  Project.environment=json.dumps(Project_Environment)\n",
    "  Cml.update_project(Project,project_id=os.getenv(\"CDSW_PROJECT_ID\"))\n",
    "\n",
    "def get_environ(Cml,Item):\n",
    "  Project=Cml.get_project(os.getenv(\"CDSW_PROJECT_ID\"))\n",
    "  Project_Environment=json.loads(Project.environment)\n",
    "  return Project_Environment[Item]"
   ]
  },
  {
   "cell_type": "code",
   "execution_count": null,
   "id": "ea6b3b1a-6cdd-402b-ae0c-baadb7cf9fea",
   "metadata": {
    "tags": []
   },
   "outputs": [],
   "source": [
    "runtime_env = {\n",
    "    #\"env_vars\": {\"__MODIN_AUTOIMPORT_PANDAS__\": \"1\"}\n",
    "}\n",
    "\n",
    "\n",
    "ray.init(address=get_environ(cml,\"RAY_ADDRESS\"),runtime_env=runtime_env)"
   ]
  },
  {
   "cell_type": "code",
   "execution_count": null,
   "id": "94f2bdfc-4f83-478d-9236-e5ba7c0efed9",
   "metadata": {},
   "outputs": [],
   "source": [
    "@ray.remote\n",
    "class MessageActor(object):\n",
    "    def __init__(self):\n",
    "        self.messages = []\n",
    "    \n",
    "    def add_message(self, message):\n",
    "        self.messages.append(message)\n",
    "    \n",
    "    def get_and_clear_messages(self):\n",
    "        messages = self.messages\n",
    "        self.messages = []\n",
    "        return messages\n",
    "\n",
    "\n",
    "# Define a remote function which loops around and pushes\n",
    "# messages to the actor.\n",
    "@ray.remote\n",
    "def worker(message_actor, j):\n",
    "    for i in range(100):\n",
    "        time.sleep(1)\n",
    "        message_actor.add_message.remote(\n",
    "            \"Message {} from worker {}.\".format(i, j))\n",
    "\n",
    "\n",
    "# Create a message actor.\n",
    "message_actor = MessageActor.remote()\n",
    "\n",
    "# Start 3 tasks that push messages to the actor.\n",
    "[worker.remote(message_actor, j) for j in range(3)]\n",
    "\n",
    "# Periodically get the messages and print them.\n",
    "for _ in range(100):\n",
    "    new_messages = ray.get(message_actor.get_and_clear_messages.remote())\n",
    "    print(\"New messages:\", new_messages)\n",
    "    time.sleep(1)"
   ]
  },
  {
   "cell_type": "code",
   "execution_count": null,
   "id": "734fea75-64e8-4557-ada7-4b519130fded",
   "metadata": {},
   "outputs": [],
   "source": [
    "def fibonacci_local(sequence_size):\n",
    "    fibonacci = []\n",
    "    for i in range(0, sequence_size):\n",
    "        if i < 2:\n",
    "            fibonacci.append(i)\n",
    "            continue\n",
    "        fibonacci.append(fibonacci[i-1]+fibonacci[i-2])\n",
    "    return sequence_size\n",
    "\n",
    "# Ray task\n",
    "@ray.remote\n",
    "def fibonacci_distributed(sequence_size):\n",
    "    fibonacci = []\n",
    "    for i in range(0, sequence_size):\n",
    "        if i < 2:\n",
    "            fibonacci.append(i)\n",
    "            continue\n",
    "        fibonacci.append(fibonacci[i-1]+fibonacci[i-2])\n",
    "    return sequence_size"
   ]
  },
  {
   "cell_type": "code",
   "execution_count": null,
   "id": "c6a1a345-38d5-4ca4-a0e7-93b11916f146",
   "metadata": {},
   "outputs": [],
   "source": [
    "%%time\n",
    "fibonacci_local(100000)"
   ]
  },
  {
   "cell_type": "code",
   "execution_count": null,
   "id": "52c91439-a8ea-491c-a28c-49355696246b",
   "metadata": {},
   "outputs": [],
   "source": [
    "%%time\n",
    "fibonacci_distributed.remote(100000)"
   ]
  },
  {
   "cell_type": "code",
   "execution_count": null,
   "id": "72938e4a-fb01-40a6-8435-9e2387382ba0",
   "metadata": {},
   "outputs": [],
   "source": []
  }
 ],
 "metadata": {
  "kernelspec": {
   "display_name": "Python 3 (ipykernel)",
   "language": "python",
   "name": "python3"
  },
  "language_info": {
   "codemirror_mode": {
    "name": "ipython",
    "version": 3
   },
   "file_extension": ".py",
   "mimetype": "text/x-python",
   "name": "python",
   "nbconvert_exporter": "python",
   "pygments_lexer": "ipython3",
   "version": "3.9.11"
  }
 },
 "nbformat": 4,
 "nbformat_minor": 5
}
