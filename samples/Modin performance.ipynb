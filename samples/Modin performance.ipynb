{
 "cells": [
  {
   "cell_type": "code",
   "execution_count": null,
   "id": "8bb5b1da-621b-4b53-a9f7-fdaa9adfaf4f",
   "metadata": {},
   "outputs": [],
   "source": [
    "import ray\n",
    "import time\n",
    "import os\n",
    "import cmlapi\n",
    "import json\n",
    "\n",
    "# Set the setup variables needed by CML APIv2\n",
    "HOST = os.getenv(\"CDSW_API_URL\").split(\":\")[0] + \"://\" + os.getenv(\"CDSW_DOMAIN\")\n",
    "USERNAME = os.getenv(\"CDSW_PROJECT_URL\").split(\"/\")[6]  # args.username  # \"vdibia\"\n",
    "API_KEY = os.getenv(\"CDSW_APIV2_KEY\")\n",
    "PROJECT_NAME = os.getenv(\"CDSW_PROJECT\")\n",
    "PROJECT_ID=os.getenv(\"CDSW_PROJECT_ID\")\n",
    "\n",
    "cml = cmlapi.default_client(url=HOST,cml_api_key=API_KEY)\n",
    "\n",
    "def set_environ(Cml,Item,Value):\n",
    "  Project=Cml.get_project(os.getenv(\"CDSW_PROJECT_ID\"))\n",
    "  if Project.environment=='':\n",
    "    Project_Environment={}\n",
    "  else:\n",
    "    Project_Environment=json.loads(Project.environment)\n",
    "  Project_Environment[Item]=Value\n",
    "  Project.environment=json.dumps(Project_Environment)\n",
    "  Cml.update_project(Project,project_id=os.getenv(\"CDSW_PROJECT_ID\"))\n",
    "\n",
    "def get_environ(Cml,Item):\n",
    "  Project=Cml.get_project(os.getenv(\"CDSW_PROJECT_ID\"))\n",
    "  Project_Environment=json.loads(Project.environment)\n",
    "  return Project_Environment[Item]"
   ]
  },
  {
   "cell_type": "code",
   "execution_count": null,
   "id": "a838e966-dee7-42b0-9519-36eff9767ec9",
   "metadata": {},
   "outputs": [],
   "source": [
    "import modin.pandas as pd\n",
    "from modin.config import BenchmarkMode\n",
    "BenchmarkMode.put(True)\n",
    "import urllib.request"
   ]
  },
  {
   "cell_type": "code",
   "execution_count": null,
   "id": "a43c7766-7bc2-4ba6-8a31-d9720cf86919",
   "metadata": {
    "tags": []
   },
   "outputs": [],
   "source": [
    "runtime_env = {\n",
    "    \"env_vars\": {\"__MODIN_AUTOIMPORT_PANDAS__\": \"1\"}\n",
    "}\n",
    "\n",
    "\n",
    "ray.init(address=get_environ(cml,\"RAY_ADDRESS\"),runtime_env=runtime_env)"
   ]
  },
  {
   "cell_type": "code",
   "execution_count": null,
   "id": "de56d945-30ef-406c-a874-66c722502c01",
   "metadata": {},
   "outputs": [],
   "source": [
    "\n",
    "url_path = \"https://modin-test.s3.us-west-1.amazonaws.com/yellow_tripdata_2015-01.csv\"\n",
    "\n"
   ]
  },
  {
   "cell_type": "code",
   "execution_count": null,
   "id": "0f79b0cb-ae98-4928-b78a-0e0e2b77300e",
   "metadata": {},
   "outputs": [],
   "source": [
    "urllib.request.urlretrieve(url_path, \"taxi.csv\")"
   ]
  },
  {
   "cell_type": "code",
   "execution_count": null,
   "id": "52982d8a-1c4e-4f2f-aa30-080327d210cc",
   "metadata": {},
   "outputs": [],
   "source": [
    "%time df = pd.read_csv(\"taxi.csv\")"
   ]
  },
  {
   "cell_type": "code",
   "execution_count": null,
   "id": "6cc9bd68-d652-4aa4-bde9-6634f6f2623a",
   "metadata": {},
   "outputs": [],
   "source": [
    "%time isnull = df.isnull()"
   ]
  },
  {
   "cell_type": "code",
   "execution_count": null,
   "id": "15929f61-82b1-4673-833e-d56cafe94178",
   "metadata": {},
   "outputs": [],
   "source": [
    "%time rounded_trip_distance = df[[\"trip_distance\"]].applymap(round)"
   ]
  },
  {
   "cell_type": "code",
   "execution_count": null,
   "id": "554a1500-3b39-47be-ab08-1fef469dfdcb",
   "metadata": {},
   "outputs": [],
   "source": [
    "%time len(df)"
   ]
  },
  {
   "cell_type": "code",
   "execution_count": null,
   "id": "1a01214e-9ce5-403d-98bf-1ea64f526e18",
   "metadata": {},
   "outputs": [],
   "source": [
    "%time df.groupby('RateCodeID').mean('passenger_count').reset_index()"
   ]
  },
  {
   "cell_type": "code",
   "execution_count": null,
   "id": "e2382483-1bcd-47cf-befa-397ed9bc0e7d",
   "metadata": {},
   "outputs": [],
   "source": [
    "df.dtypes"
   ]
  },
  {
   "cell_type": "code",
   "execution_count": null,
   "id": "09f04593-074a-4f21-8b83-2d63dbcf9ac3",
   "metadata": {},
   "outputs": [],
   "source": []
  },
  {
   "cell_type": "code",
   "execution_count": null,
   "id": "8cec9ab9-951f-4b4c-9beb-c687c0991a58",
   "metadata": {},
   "outputs": [],
   "source": []
  }
 ],
 "metadata": {
  "kernelspec": {
   "display_name": "Python 3 (ipykernel)",
   "language": "python",
   "name": "python3"
  },
  "language_info": {
   "codemirror_mode": {
    "name": "ipython",
    "version": 3
   },
   "file_extension": ".py",
   "mimetype": "text/x-python",
   "name": "python",
   "nbconvert_exporter": "python",
   "pygments_lexer": "ipython3",
   "version": "3.9.11"
  }
 },
 "nbformat": 4,
 "nbformat_minor": 5
}
